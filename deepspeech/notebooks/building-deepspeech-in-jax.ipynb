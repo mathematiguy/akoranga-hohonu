{
 "cells": [
  {
   "cell_type": "markdown",
   "id": "e6cb58f2-6529-4824-8faa-b8364bdea5b9",
   "metadata": {},
   "source": [
    "# Building DeepSpeech in Jax\n",
    "\n",
    "The goal of this notebook is to implement a basic DeepSpeech model using Jax."
   ]
  },
  {
   "cell_type": "code",
   "execution_count": null,
   "id": "0c154c3c-22b2-478f-82e0-ff706463ec1c",
   "metadata": {},
   "outputs": [],
   "source": []
  }
 ],
 "metadata": {
  "kernelspec": {
   "display_name": "Python 3 (ipykernel)",
   "language": "python",
   "name": "python3"
  },
  "language_info": {
   "codemirror_mode": {
    "name": "ipython",
    "version": 3
   },
   "file_extension": ".py",
   "mimetype": "text/x-python",
   "name": "python",
   "nbconvert_exporter": "python",
   "pygments_lexer": "ipython3",
   "version": "3.9.12"
  }
 },
 "nbformat": 4,
 "nbformat_minor": 5
}
